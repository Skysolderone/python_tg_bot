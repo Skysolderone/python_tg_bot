{
 "cells": [
  {
   "cell_type": "code",
   "execution_count": 102,
   "metadata": {},
   "outputs": [],
   "source": [
    "from  binance.client import Client\n",
    "from binance.exceptions import BinanceAPIException\n",
    "import dotenv\n",
    "import os\n",
    "import pandas as pd\n",
    "from get_csv.csvdata import Csv"
   ]
  },
  {
   "cell_type": "code",
   "execution_count": 103,
   "metadata": {},
   "outputs": [
    {
     "name": "stdout",
     "output_type": "stream",
     "text": [
      "init bot\n"
     ]
    },
    {
     "ename": "TypeError",
     "evalue": "Csv.getKline() takes 1 positional argument but 2 were given",
     "output_type": "error",
     "traceback": [
      "\u001b[0;31m---------------------------------------------------------------------------\u001b[0m",
      "\u001b[0;31mTypeError\u001b[0m                                 Traceback (most recent call last)",
      "Cell \u001b[0;32mIn[103], line 35\u001b[0m\n\u001b[1;32m     19\u001b[0m     \u001b[38;5;66;03m#websocket connect \u001b[39;00m\n\u001b[1;32m     20\u001b[0m \n\u001b[1;32m     21\u001b[0m     \u001b[38;5;66;03m#read local 15m 30m 1h 2h 4h 1d csv\u001b[39;00m\n\u001b[0;32m   (...)\u001b[0m\n\u001b[1;32m     31\u001b[0m     \u001b[38;5;66;03m#check indicator\u001b[39;00m\n\u001b[1;32m     32\u001b[0m     \u001b[38;5;66;03m#run buy|sell\u001b[39;00m\n\u001b[1;32m     34\u001b[0m \u001b[38;5;28;01mif\u001b[39;00m \u001b[38;5;18m__name__\u001b[39m\u001b[38;5;241m==\u001b[39m\u001b[38;5;124m'\u001b[39m\u001b[38;5;124m__main__\u001b[39m\u001b[38;5;124m'\u001b[39m:\n\u001b[0;32m---> 35\u001b[0m     \u001b[43mmain\u001b[49m\u001b[43m(\u001b[49m\u001b[43m)\u001b[49m\n",
      "Cell \u001b[0;32mIn[103], line 8\u001b[0m, in \u001b[0;36mmain\u001b[0;34m()\u001b[0m\n\u001b[1;32m      6\u001b[0m secret\u001b[38;5;241m=\u001b[39mos\u001b[38;5;241m.\u001b[39mgetenv(\u001b[38;5;124m'\u001b[39m\u001b[38;5;124msecret\u001b[39m\u001b[38;5;124m'\u001b[39m)\n\u001b[1;32m      7\u001b[0m client\u001b[38;5;241m=\u001b[39mClient(apikey,secret)\n\u001b[0;32m----> 8\u001b[0m \u001b[43mCsv\u001b[49m\u001b[43m(\u001b[49m\u001b[43m)\u001b[49m\u001b[38;5;241;43m.\u001b[39;49m\u001b[43mgetKline\u001b[49m\u001b[43m(\u001b[49m\u001b[43mclient\u001b[49m\u001b[43m)\u001b[49m\n\u001b[1;32m     11\u001b[0m \u001b[38;5;28;01mtry\u001b[39;00m:\n\u001b[1;32m     12\u001b[0m     result\u001b[38;5;241m=\u001b[39mclient\u001b[38;5;241m.\u001b[39mget_account_api_permissions(recvWindow\u001b[38;5;241m=\u001b[39m\u001b[38;5;241m10000\u001b[39m)\n",
      "\u001b[0;31mTypeError\u001b[0m: Csv.getKline() takes 1 positional argument but 2 were given"
     ]
    }
   ],
   "source": [
    "def main():\n",
    "    print(\"init bot\")\n",
    "    dotenv.load_dotenv()\n",
    "    #binance client init \n",
    "    apikey=os.getenv('apikey')\n",
    "    secret=os.getenv('secret')\n",
    "    client=Client(apikey,secret)\n",
    "    Csv().getKline(client)\n",
    "    \n",
    "   \n",
    "    try:\n",
    "        result=client.get_account_api_permissions(recvWindow=10000)\n",
    "    except BinanceAPIException as e:\n",
    "        print(e)\n",
    "    else:  \n",
    "        print(result)\n",
    "    \n",
    "   \n",
    "    #websocket connect \n",
    "\n",
    "    #read local 15m 30m 1h 2h 4h 1d csv\n",
    "    # pd15m=pd.read_csv('csv/15m.csv')\n",
    "    # pd30m=pd.read_csv('csv/30m.csv')\n",
    "    # pd1h=pd.read_csv('csv/1h.csv')\n",
    "    # pd2h=pd.read_csv('csv/2h.csv')\n",
    "    # pd4h=pd.read_csv('csv/4h.csv')\n",
    "    # pd1d=pd.read_csv('csv/1d.csv')\n",
    "    #anthor get binance kline data save to csv 00:00\n",
    "    #concat kline data\n",
    "    #load indicator\n",
    "    #check indicator\n",
    "    #run buy|sell\n",
    "\n",
    "if __name__=='__main__':\n",
    "    main()"
   ]
  }
 ],
 "metadata": {
  "kernelspec": {
   "display_name": "Python 3",
   "language": "python",
   "name": "python3"
  },
  "language_info": {
   "codemirror_mode": {
    "name": "ipython",
    "version": 3
   },
   "file_extension": ".py",
   "mimetype": "text/x-python",
   "name": "python",
   "nbconvert_exporter": "python",
   "pygments_lexer": "ipython3",
   "version": "3.11.9"
  }
 },
 "nbformat": 4,
 "nbformat_minor": 2
}
